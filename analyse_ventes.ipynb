{
 "cells": [
  {
   "cell_type": "markdown",
   "metadata": {},
   "source": [
    "#decouverte des donnees"
   ]
  },
  {
   "cell_type": "code",
   "execution_count": null,
   "metadata": {},
   "outputs": [],
   "source": [
    "#importer les packages nécessaires\n",
    "import os\n",
    "import pandas as pd \n",
    "import matplotlib.pyplot as plt\n",
    "import seaborn as sns\n"
   ]
  },
  {
   "cell_type": "code",
   "execution_count": 3,
   "metadata": {},
   "outputs": [
    {
     "name": "stdout",
     "output_type": "stream",
     "text": [
      "all_data.csv\n",
      "dataP1.csv\n",
      "dataP2.csv\n"
     ]
    }
   ],
   "source": [
    "#collecter les noms des fichiers (datasets)\n",
    "files = [file for file in os.listdir(r'C:\\Users\\sella\\Desktop\\part1_DA_PYTON\\dataP1')]\n",
    "files\n",
    "for file in files :\n",
    "    print(file)"
   ]
  },
  {
   "cell_type": "code",
   "execution_count": null,
   "metadata": {},
   "outputs": [
    {
     "data": {
      "text/plain": [
       "(128, 8)"
      ]
     },
     "execution_count": 4,
     "metadata": {},
     "output_type": "execute_result"
    }
   ],
   "source": [
    "path = r'C:\\Users\\sella\\Desktop\\part1_DA_PYTON\\dataP1'\n",
    "all_data = pd.DataFrame()\n",
    "for file in files:\n",
    "    current_data = pd.read_csv(path + \"/\" + file)\n",
    "    all_data = pd.concat([all_data, current_data])\n",
    "all_data\n",
    "all_data.shape"
   ]
  },
  {
   "cell_type": "code",
   "execution_count": 5,
   "metadata": {},
   "outputs": [
    {
     "data": {
      "text/plain": [
       "(32, 7)"
      ]
     },
     "execution_count": 5,
     "metadata": {},
     "output_type": "execute_result"
    }
   ],
   "source": [
    "donne1 = pd.read_csv(path + '/dataP1.csv')\n",
    "donne1\n",
    "donne1.shape"
   ]
  },
  {
   "cell_type": "code",
   "execution_count": null,
   "metadata": {},
   "outputs": [],
   "source": [
    "#Mettre les donnees dans un seul fichier\n",
    "all_data.to_csv(path + '/all_data.csv', index=True)\n"
   ]
  },
  {
   "cell_type": "code",
   "execution_count": 54,
   "metadata": {},
   "outputs": [
    {
     "data": {
      "text/plain": [
       "Date            int64\n",
       "Order_ID       object\n",
       "Product         int64\n",
       "Quantity      float64\n",
       "Unit_Price    float64\n",
       "Total          object\n",
       "Adresse        object\n",
       "dtype: object"
      ]
     },
     "execution_count": 54,
     "metadata": {},
     "output_type": "execute_result"
    }
   ],
   "source": [
    "all_data.dtypes"
   ]
  },
  {
   "cell_type": "code",
   "execution_count": 28,
   "metadata": {},
   "outputs": [
    {
     "data": {
      "text/html": [
       "<div>\n",
       "<style scoped>\n",
       "    .dataframe tbody tr th:only-of-type {\n",
       "        vertical-align: middle;\n",
       "    }\n",
       "\n",
       "    .dataframe tbody tr th {\n",
       "        vertical-align: top;\n",
       "    }\n",
       "\n",
       "    .dataframe thead th {\n",
       "        text-align: right;\n",
       "    }\n",
       "</style>\n",
       "<table border=\"1\" class=\"dataframe\">\n",
       "  <thead>\n",
       "    <tr style=\"text-align: right;\">\n",
       "      <th></th>\n",
       "      <th>Date</th>\n",
       "      <th>Order_ID</th>\n",
       "      <th>Product</th>\n",
       "      <th>Quantity</th>\n",
       "      <th>Unit_Price</th>\n",
       "      <th>Total</th>\n",
       "      <th>Adresse</th>\n",
       "    </tr>\n",
       "  </thead>\n",
       "  <tbody>\n",
       "    <tr>\n",
       "      <th>2019-04-01</th>\n",
       "      <td>1001</td>\n",
       "      <td>Widget A</td>\n",
       "      <td>10</td>\n",
       "      <td>20.5</td>\n",
       "      <td>205.0</td>\n",
       "      <td>123 Main St</td>\n",
       "      <td>City A</td>\n",
       "    </tr>\n",
       "    <tr>\n",
       "      <th>2019-04-01</th>\n",
       "      <td>1002</td>\n",
       "      <td>Widget B</td>\n",
       "      <td>5</td>\n",
       "      <td>15.0</td>\n",
       "      <td>75.0</td>\n",
       "      <td>456 Elm St</td>\n",
       "      <td>City B</td>\n",
       "    </tr>\n",
       "    <tr>\n",
       "      <th>2019-04-02</th>\n",
       "      <td>1003</td>\n",
       "      <td>Widget C</td>\n",
       "      <td>2</td>\n",
       "      <td>40.0</td>\n",
       "      <td>80.0</td>\n",
       "      <td>789 Maple Ave</td>\n",
       "      <td>City C</td>\n",
       "    </tr>\n",
       "    <tr>\n",
       "      <th>2019-04-02</th>\n",
       "      <td>1004</td>\n",
       "      <td>Widget A</td>\n",
       "      <td>8</td>\n",
       "      <td>20.5</td>\n",
       "      <td>164.0</td>\n",
       "      <td>101 Oak Dr</td>\n",
       "      <td>City A</td>\n",
       "    </tr>\n",
       "    <tr>\n",
       "      <th>2019-04-03</th>\n",
       "      <td>1005</td>\n",
       "      <td>Widget D</td>\n",
       "      <td>1</td>\n",
       "      <td>100.0</td>\n",
       "      <td>100.0</td>\n",
       "      <td>202 Pine Rd</td>\n",
       "      <td>City D</td>\n",
       "    </tr>\n",
       "  </tbody>\n",
       "</table>\n",
       "</div>"
      ],
      "text/plain": [
       "            Date  Order_ID  Product  Quantity  Unit_Price          Total  \\\n",
       "2019-04-01  1001  Widget A       10      20.5       205.0    123 Main St   \n",
       "2019-04-01  1002  Widget B        5      15.0        75.0     456 Elm St   \n",
       "2019-04-02  1003  Widget C        2      40.0        80.0  789 Maple Ave   \n",
       "2019-04-02  1004  Widget A        8      20.5       164.0     101 Oak Dr   \n",
       "2019-04-03  1005  Widget D        1     100.0       100.0    202 Pine Rd   \n",
       "\n",
       "            Adresse  \n",
       "2019-04-01   City A  \n",
       "2019-04-01   City B  \n",
       "2019-04-02   City C  \n",
       "2019-04-02   City A  \n",
       "2019-04-03   City D  "
      ]
     },
     "execution_count": 28,
     "metadata": {},
     "output_type": "execute_result"
    }
   ],
   "source": [
    "all_data.head()"
   ]
  },
  {
   "cell_type": "code",
   "execution_count": 55,
   "metadata": {},
   "outputs": [
    {
     "data": {
      "text/html": [
       "<div>\n",
       "<style scoped>\n",
       "    .dataframe tbody tr th:only-of-type {\n",
       "        vertical-align: middle;\n",
       "    }\n",
       "\n",
       "    .dataframe tbody tr th {\n",
       "        vertical-align: top;\n",
       "    }\n",
       "\n",
       "    .dataframe thead th {\n",
       "        text-align: right;\n",
       "    }\n",
       "</style>\n",
       "<table border=\"1\" class=\"dataframe\">\n",
       "  <thead>\n",
       "    <tr style=\"text-align: right;\">\n",
       "      <th></th>\n",
       "      <th>Date</th>\n",
       "      <th>Order_ID</th>\n",
       "      <th>Product</th>\n",
       "      <th>Quantity</th>\n",
       "      <th>Unit_Price</th>\n",
       "      <th>Total</th>\n",
       "      <th>Adresse</th>\n",
       "    </tr>\n",
       "  </thead>\n",
       "  <tbody>\n",
       "    <tr>\n",
       "      <th>2019-04-01 10:00</th>\n",
       "      <td>False</td>\n",
       "      <td>False</td>\n",
       "      <td>False</td>\n",
       "      <td>False</td>\n",
       "      <td>False</td>\n",
       "      <td>False</td>\n",
       "      <td>False</td>\n",
       "    </tr>\n",
       "    <tr>\n",
       "      <th>2019-04-01 11:00</th>\n",
       "      <td>False</td>\n",
       "      <td>False</td>\n",
       "      <td>False</td>\n",
       "      <td>False</td>\n",
       "      <td>False</td>\n",
       "      <td>False</td>\n",
       "      <td>False</td>\n",
       "    </tr>\n",
       "    <tr>\n",
       "      <th>2019-04-02 09:30</th>\n",
       "      <td>False</td>\n",
       "      <td>False</td>\n",
       "      <td>False</td>\n",
       "      <td>False</td>\n",
       "      <td>False</td>\n",
       "      <td>False</td>\n",
       "      <td>False</td>\n",
       "    </tr>\n",
       "    <tr>\n",
       "      <th>2019-04-02 10:15</th>\n",
       "      <td>False</td>\n",
       "      <td>False</td>\n",
       "      <td>False</td>\n",
       "      <td>False</td>\n",
       "      <td>False</td>\n",
       "      <td>False</td>\n",
       "      <td>False</td>\n",
       "    </tr>\n",
       "    <tr>\n",
       "      <th>2019-04-03 14:00</th>\n",
       "      <td>False</td>\n",
       "      <td>False</td>\n",
       "      <td>False</td>\n",
       "      <td>False</td>\n",
       "      <td>False</td>\n",
       "      <td>False</td>\n",
       "      <td>False</td>\n",
       "    </tr>\n",
       "    <tr>\n",
       "      <th>...</th>\n",
       "      <td>...</td>\n",
       "      <td>...</td>\n",
       "      <td>...</td>\n",
       "      <td>...</td>\n",
       "      <td>...</td>\n",
       "      <td>...</td>\n",
       "      <td>...</td>\n",
       "    </tr>\n",
       "    <tr>\n",
       "      <th>2019-04-26 08:10</th>\n",
       "      <td>False</td>\n",
       "      <td>False</td>\n",
       "      <td>False</td>\n",
       "      <td>False</td>\n",
       "      <td>False</td>\n",
       "      <td>False</td>\n",
       "      <td>False</td>\n",
       "    </tr>\n",
       "    <tr>\n",
       "      <th>2019-04-27 13:50</th>\n",
       "      <td>False</td>\n",
       "      <td>False</td>\n",
       "      <td>False</td>\n",
       "      <td>False</td>\n",
       "      <td>False</td>\n",
       "      <td>False</td>\n",
       "      <td>False</td>\n",
       "    </tr>\n",
       "    <tr>\n",
       "      <th>2019-04-28 14:30</th>\n",
       "      <td>False</td>\n",
       "      <td>False</td>\n",
       "      <td>False</td>\n",
       "      <td>False</td>\n",
       "      <td>False</td>\n",
       "      <td>False</td>\n",
       "      <td>False</td>\n",
       "    </tr>\n",
       "    <tr>\n",
       "      <th>2019-04-29 10:00</th>\n",
       "      <td>False</td>\n",
       "      <td>False</td>\n",
       "      <td>False</td>\n",
       "      <td>False</td>\n",
       "      <td>False</td>\n",
       "      <td>False</td>\n",
       "      <td>False</td>\n",
       "    </tr>\n",
       "    <tr>\n",
       "      <th>2000-04-30 09:00</th>\n",
       "      <td>False</td>\n",
       "      <td>False</td>\n",
       "      <td>False</td>\n",
       "      <td>False</td>\n",
       "      <td>False</td>\n",
       "      <td>False</td>\n",
       "      <td>False</td>\n",
       "    </tr>\n",
       "  </tbody>\n",
       "</table>\n",
       "<p>64 rows × 7 columns</p>\n",
       "</div>"
      ],
      "text/plain": [
       "                   Date  Order_ID  Product  Quantity  Unit_Price  Total  \\\n",
       "2019-04-01 10:00  False     False    False     False       False  False   \n",
       "2019-04-01 11:00  False     False    False     False       False  False   \n",
       "2019-04-02 09:30  False     False    False     False       False  False   \n",
       "2019-04-02 10:15  False     False    False     False       False  False   \n",
       "2019-04-03 14:00  False     False    False     False       False  False   \n",
       "...                 ...       ...      ...       ...         ...    ...   \n",
       "2019-04-26 08:10  False     False    False     False       False  False   \n",
       "2019-04-27 13:50  False     False    False     False       False  False   \n",
       "2019-04-28 14:30  False     False    False     False       False  False   \n",
       "2019-04-29 10:00  False     False    False     False       False  False   \n",
       "2000-04-30 09:00  False     False    False     False       False  False   \n",
       "\n",
       "                  Adresse  \n",
       "2019-04-01 10:00    False  \n",
       "2019-04-01 11:00    False  \n",
       "2019-04-02 09:30    False  \n",
       "2019-04-02 10:15    False  \n",
       "2019-04-03 14:00    False  \n",
       "...                   ...  \n",
       "2019-04-26 08:10    False  \n",
       "2019-04-27 13:50    False  \n",
       "2019-04-28 14:30    False  \n",
       "2019-04-29 10:00    False  \n",
       "2000-04-30 09:00    False  \n",
       "\n",
       "[64 rows x 7 columns]"
      ]
     },
     "execution_count": 55,
     "metadata": {},
     "output_type": "execute_result"
    }
   ],
   "source": [
    "all_data.isnull()"
   ]
  },
  {
   "cell_type": "code",
   "execution_count": 56,
   "metadata": {},
   "outputs": [
    {
     "data": {
      "text/plain": [
       "Date          0\n",
       "Order_ID      0\n",
       "Product       0\n",
       "Quantity      0\n",
       "Unit_Price    0\n",
       "Total         0\n",
       "Adresse       0\n",
       "dtype: int64"
      ]
     },
     "execution_count": 56,
     "metadata": {},
     "output_type": "execute_result"
    }
   ],
   "source": [
    "all_data.isnull().sum()"
   ]
  },
  {
   "cell_type": "code",
   "execution_count": null,
   "metadata": {},
   "outputs": [
    {
     "data": {
      "text/html": [
       "<div>\n",
       "<style scoped>\n",
       "    .dataframe tbody tr th:only-of-type {\n",
       "        vertical-align: middle;\n",
       "    }\n",
       "\n",
       "    .dataframe tbody tr th {\n",
       "        vertical-align: top;\n",
       "    }\n",
       "\n",
       "    .dataframe thead th {\n",
       "        text-align: right;\n",
       "    }\n",
       "</style>\n",
       "<table border=\"1\" class=\"dataframe\">\n",
       "  <thead>\n",
       "    <tr style=\"text-align: right;\">\n",
       "      <th></th>\n",
       "      <th>Date</th>\n",
       "      <th>Order_ID</th>\n",
       "      <th>Product</th>\n",
       "      <th>Quantity</th>\n",
       "      <th>Unit_Price</th>\n",
       "      <th>Total</th>\n",
       "      <th>Adresse</th>\n",
       "    </tr>\n",
       "  </thead>\n",
       "  <tbody>\n",
       "    <tr>\n",
       "      <th>2019-04-01 10:00</th>\n",
       "      <td>1001</td>\n",
       "      <td>Widget A</td>\n",
       "      <td>10</td>\n",
       "      <td>20.5</td>\n",
       "      <td>205.0</td>\n",
       "      <td>123 Main St</td>\n",
       "      <td>City A</td>\n",
       "    </tr>\n",
       "    <tr>\n",
       "      <th>2019-04-01 11:00</th>\n",
       "      <td>1002</td>\n",
       "      <td>Widget B</td>\n",
       "      <td>5</td>\n",
       "      <td>15.0</td>\n",
       "      <td>75.0</td>\n",
       "      <td>456 Elm St</td>\n",
       "      <td>City B</td>\n",
       "    </tr>\n",
       "    <tr>\n",
       "      <th>2019-04-02 09:30</th>\n",
       "      <td>1003</td>\n",
       "      <td>Widget C</td>\n",
       "      <td>2</td>\n",
       "      <td>40.0</td>\n",
       "      <td>80.0</td>\n",
       "      <td>789 Maple Ave</td>\n",
       "      <td>City C</td>\n",
       "    </tr>\n",
       "    <tr>\n",
       "      <th>2019-04-02 10:15</th>\n",
       "      <td>1004</td>\n",
       "      <td>Widget A</td>\n",
       "      <td>8</td>\n",
       "      <td>20.5</td>\n",
       "      <td>164.0</td>\n",
       "      <td>101 Oak Dr</td>\n",
       "      <td>City A</td>\n",
       "    </tr>\n",
       "    <tr>\n",
       "      <th>2019-04-03 14:00</th>\n",
       "      <td>1005</td>\n",
       "      <td>Widget D</td>\n",
       "      <td>1</td>\n",
       "      <td>100.0</td>\n",
       "      <td>100.0</td>\n",
       "      <td>202 Pine Rd</td>\n",
       "      <td>City D</td>\n",
       "    </tr>\n",
       "    <tr>\n",
       "      <th>...</th>\n",
       "      <td>...</td>\n",
       "      <td>...</td>\n",
       "      <td>...</td>\n",
       "      <td>...</td>\n",
       "      <td>...</td>\n",
       "      <td>...</td>\n",
       "      <td>...</td>\n",
       "    </tr>\n",
       "    <tr>\n",
       "      <th>2019-04-26 08:10</th>\n",
       "      <td>1028</td>\n",
       "      <td>Widget C</td>\n",
       "      <td>2</td>\n",
       "      <td>40.0</td>\n",
       "      <td>80.0</td>\n",
       "      <td>2525 Elm St</td>\n",
       "      <td>City C</td>\n",
       "    </tr>\n",
       "    <tr>\n",
       "      <th>2019-04-27 13:50</th>\n",
       "      <td>1029</td>\n",
       "      <td>Widget D</td>\n",
       "      <td>1</td>\n",
       "      <td>100.0</td>\n",
       "      <td>100.0</td>\n",
       "      <td>2626 Pine Rd</td>\n",
       "      <td>City D</td>\n",
       "    </tr>\n",
       "    <tr>\n",
       "      <th>2019-04-28 14:30</th>\n",
       "      <td>1030</td>\n",
       "      <td>Widget B</td>\n",
       "      <td>7</td>\n",
       "      <td>15.0</td>\n",
       "      <td>105.0</td>\n",
       "      <td>2727 Cedar St</td>\n",
       "      <td>City B</td>\n",
       "    </tr>\n",
       "    <tr>\n",
       "      <th>2019-04-29 10:00</th>\n",
       "      <td>1031</td>\n",
       "      <td>Widget A</td>\n",
       "      <td>5</td>\n",
       "      <td>20.5</td>\n",
       "      <td>102.5</td>\n",
       "      <td>2828 Birch Ln</td>\n",
       "      <td>City A</td>\n",
       "    </tr>\n",
       "    <tr>\n",
       "      <th>2000-04-30 09:00</th>\n",
       "      <td>1032</td>\n",
       "      <td>Widget C</td>\n",
       "      <td>4</td>\n",
       "      <td>40.0</td>\n",
       "      <td>160.0</td>\n",
       "      <td>2929 Example St</td>\n",
       "      <td>City C</td>\n",
       "    </tr>\n",
       "  </tbody>\n",
       "</table>\n",
       "<p>64 rows × 7 columns</p>\n",
       "</div>"
      ],
      "text/plain": [
       "                  Date  Order_ID  Product  Quantity  Unit_Price  \\\n",
       "2019-04-01 10:00  1001  Widget A       10      20.5       205.0   \n",
       "2019-04-01 11:00  1002  Widget B        5      15.0        75.0   \n",
       "2019-04-02 09:30  1003  Widget C        2      40.0        80.0   \n",
       "2019-04-02 10:15  1004  Widget A        8      20.5       164.0   \n",
       "2019-04-03 14:00  1005  Widget D        1     100.0       100.0   \n",
       "...                ...       ...      ...       ...         ...   \n",
       "2019-04-26 08:10  1028  Widget C        2      40.0        80.0   \n",
       "2019-04-27 13:50  1029  Widget D        1     100.0       100.0   \n",
       "2019-04-28 14:30  1030  Widget B        7      15.0       105.0   \n",
       "2019-04-29 10:00  1031  Widget A        5      20.5       102.5   \n",
       "2000-04-30 09:00  1032  Widget C        4      40.0       160.0   \n",
       "\n",
       "                            Total  Adresse  \n",
       "2019-04-01 10:00      123 Main St   City A  \n",
       "2019-04-01 11:00       456 Elm St   City B  \n",
       "2019-04-02 09:30    789 Maple Ave   City C  \n",
       "2019-04-02 10:15       101 Oak Dr   City A  \n",
       "2019-04-03 14:00      202 Pine Rd   City D  \n",
       "...                           ...      ...  \n",
       "2019-04-26 08:10      2525 Elm St   City C  \n",
       "2019-04-27 13:50     2626 Pine Rd   City D  \n",
       "2019-04-28 14:30    2727 Cedar St   City B  \n",
       "2019-04-29 10:00    2828 Birch Ln   City A  \n",
       "2000-04-30 09:00  2929 Example St   City C  \n",
       "\n",
       "[64 rows x 7 columns]"
      ]
     },
     "execution_count": 57,
     "metadata": {},
     "output_type": "execute_result"
    }
   ],
   "source": [
    "#Supprimer les valeurs manquantes\n",
    "all_data = all_data.dropna(how='all')\n",
    "all_data"
   ]
  },
  {
   "cell_type": "markdown",
   "metadata": {},
   "source": [
    "Quel est le mois durant lequel nous avons realise le meilleur chiffre d'affaire?\n"
   ]
  },
  {
   "cell_type": "code",
   "execution_count": 58,
   "metadata": {},
   "outputs": [
    {
     "data": {
      "text/plain": [
       "'04'"
      ]
     },
     "execution_count": 58,
     "metadata": {},
     "output_type": "execute_result"
    }
   ],
   "source": [
    "def month(x):#extraire le mois de ladate\n",
    "    return x.split('-')[1]\n",
    "month('2019-04-02')"
   ]
  },
  {
   "cell_type": "code",
   "execution_count": null,
   "metadata": {},
   "outputs": [
    {
     "data": {
      "text/plain": [
       "2019-04-01 10:00    1\n",
       "2019-04-01 11:00    1\n",
       "2019-04-02 09:30    1\n",
       "2019-04-02 10:15    1\n",
       "2019-04-03 14:00    1\n",
       "                   ..\n",
       "2019-04-26 08:10    1\n",
       "2019-04-27 13:50    1\n",
       "2019-04-28 14:30    1\n",
       "2019-04-29 10:00    1\n",
       "2000-04-30 09:00    1\n",
       "Name: Month, Length: 64, dtype: int32"
      ]
     },
     "execution_count": 59,
     "metadata": {},
     "output_type": "execute_result"
    }
   ],
   "source": [
    "\n",
    "all_data.columns = all_data.columns.str.strip()\n",
    "all_data = all_data.loc[:, ~all_data.columns.duplicated()]\n",
    "all_data['Date'] = pd.to_datetime(all_data['Date'], errors='coerce')\n",
    "all_data['Month'] = all_data['Date'].dt.month\n",
    "all_data\n",
    "all_data['Month']\n"
   ]
  },
  {
   "cell_type": "code",
   "execution_count": 60,
   "metadata": {},
   "outputs": [
    {
     "data": {
      "text/plain": [
       "array([1], dtype=int32)"
      ]
     },
     "execution_count": 60,
     "metadata": {},
     "output_type": "execute_result"
    }
   ],
   "source": [
    "all_data['Month']\n",
    "all_data['Month'].unique()"
   ]
  },
  {
   "cell_type": "code",
   "execution_count": null,
   "metadata": {},
   "outputs": [
    {
     "data": {
      "text/plain": [
       "array([1], dtype=int32)"
      ]
     },
     "execution_count": 61,
     "metadata": {},
     "output_type": "execute_result"
    }
   ],
   "source": [
    "all_data = all_data[all_data['Month'].notna()]\n",
    "all_data['Month'].unique()"
   ]
  },
  {
   "cell_type": "code",
   "execution_count": 62,
   "metadata": {},
   "outputs": [
    {
     "data": {
      "text/plain": [
       "array([1])"
      ]
     },
     "execution_count": 62,
     "metadata": {},
     "output_type": "execute_result"
    }
   ],
   "source": [
    "all_data[\"Month\"] = all_data[\"Month\"].astype(int)\n",
    "all_data['Month'].unique()"
   ]
  },
  {
   "cell_type": "code",
   "execution_count": null,
   "metadata": {},
   "outputs": [
    {
     "data": {
      "text/plain": [
       "Month\n",
       "1    757760.0\n",
       "Name: Chiffre d'affaire, dtype: float64"
      ]
     },
     "execution_count": 63,
     "metadata": {},
     "output_type": "execute_result"
    }
   ],
   "source": [
    "\n",
    "all_data['Unit_Price'] = all_data['Unit_Price'].astype(float)\n",
    "all_data['Quantity'] = all_data['Quantity'].astype(int)\n",
    "all_data[\"Chiffre d'affaire\"] = all_data['Unit_Price'] * all_data['Quantity']\n",
    "all_data\n",
    "all_data.groupby('Month')[\"Chiffre d'affaire\"].sum()\n",
    "\n"
   ]
  },
  {
   "cell_type": "code",
   "execution_count": 64,
   "metadata": {},
   "outputs": [
    {
     "data": {
      "image/png": "[encoded data removed]",
      "text/plain": [
       "<Figure size 640x480 with 1 Axes>"
      ]
     },
     "metadata": {},
     "output_type": "display_data"
    }
   ],
   "source": [
    "#visualisation pour etre plus clair\n",
    "months = range(1,5)\n",
    "plt.bar(months, all_data.groupby('Month')[\"Chiffre d'affaire\"].sum())\n",
    "plt.xticks(months)\n",
    "plt.ylabel('Chiffre d\\'affaire en USD')\n",
    "plt.xlabel('Mois number')\n",
    "plt.show()"
   ]
  },
  {
   "cell_type": "markdown",
   "metadata": {},
   "source": [
    "Dans quelle ville nous avons enregistre un maximum de commandes ?"
   ]
  },
  {
   "cell_type": "code",
   "execution_count": null,
   "metadata": {},
   "outputs": [
    {
     "data": {
      "text/html": [
       "<div>\n",
       "<style scoped>\n",
       "    .dataframe tbody tr th:only-of-type {\n",
       "        vertical-align: middle;\n",
       "    }\n",
       "\n",
       "    .dataframe tbody tr th {\n",
       "        vertical-align: top;\n",
       "    }\n",
       "\n",
       "    .dataframe thead th {\n",
       "        text-align: right;\n",
       "    }\n",
       "</style>\n",
       "<table border=\"1\" class=\"dataframe\">\n",
       "  <thead>\n",
       "    <tr style=\"text-align: right;\">\n",
       "      <th></th>\n",
       "      <th>Date</th>\n",
       "      <th>Order_ID</th>\n",
       "      <th>Product</th>\n",
       "      <th>Quantity</th>\n",
       "      <th>Unit_Price</th>\n",
       "      <th>Total</th>\n",
       "      <th>Adresse</th>\n",
       "      <th>Month</th>\n",
       "      <th>Chiffre d'affaire</th>\n",
       "      <th>city</th>\n",
       "    </tr>\n",
       "  </thead>\n",
       "  <tbody>\n",
       "    <tr>\n",
       "      <th>2019-04-01 10:00</th>\n",
       "      <td>1970-01-01 00:00:00.000001001</td>\n",
       "      <td>Widget A</td>\n",
       "      <td>10</td>\n",
       "      <td>20</td>\n",
       "      <td>205.0</td>\n",
       "      <td>123 Main St</td>\n",
       "      <td>City A</td>\n",
       "      <td>1</td>\n",
       "      <td>4100.0</td>\n",
       "      <td>City A</td>\n",
       "    </tr>\n",
       "    <tr>\n",
       "      <th>2019-04-01 11:00</th>\n",
       "      <td>1970-01-01 00:00:00.000001002</td>\n",
       "      <td>Widget B</td>\n",
       "      <td>5</td>\n",
       "      <td>15</td>\n",
       "      <td>75.0</td>\n",
       "      <td>456 Elm St</td>\n",
       "      <td>City B</td>\n",
       "      <td>1</td>\n",
       "      <td>1125.0</td>\n",
       "      <td>City B</td>\n",
       "    </tr>\n",
       "    <tr>\n",
       "      <th>2019-04-02 09:30</th>\n",
       "      <td>1970-01-01 00:00:00.000001003</td>\n",
       "      <td>Widget C</td>\n",
       "      <td>2</td>\n",
       "      <td>40</td>\n",
       "      <td>80.0</td>\n",
       "      <td>789 Maple Ave</td>\n",
       "      <td>City C</td>\n",
       "      <td>1</td>\n",
       "      <td>3200.0</td>\n",
       "      <td>City C</td>\n",
       "    </tr>\n",
       "    <tr>\n",
       "      <th>2019-04-02 10:15</th>\n",
       "      <td>1970-01-01 00:00:00.000001004</td>\n",
       "      <td>Widget A</td>\n",
       "      <td>8</td>\n",
       "      <td>20</td>\n",
       "      <td>164.0</td>\n",
       "      <td>101 Oak Dr</td>\n",
       "      <td>City A</td>\n",
       "      <td>1</td>\n",
       "      <td>3280.0</td>\n",
       "      <td>City A</td>\n",
       "    </tr>\n",
       "    <tr>\n",
       "      <th>2019-04-03 14:00</th>\n",
       "      <td>1970-01-01 00:00:00.000001005</td>\n",
       "      <td>Widget D</td>\n",
       "      <td>1</td>\n",
       "      <td>100</td>\n",
       "      <td>100.0</td>\n",
       "      <td>202 Pine Rd</td>\n",
       "      <td>City D</td>\n",
       "      <td>1</td>\n",
       "      <td>10000.0</td>\n",
       "      <td>City D</td>\n",
       "    </tr>\n",
       "    <tr>\n",
       "      <th>...</th>\n",
       "      <td>...</td>\n",
       "      <td>...</td>\n",
       "      <td>...</td>\n",
       "      <td>...</td>\n",
       "      <td>...</td>\n",
       "      <td>...</td>\n",
       "      <td>...</td>\n",
       "      <td>...</td>\n",
       "      <td>...</td>\n",
       "      <td>...</td>\n",
       "    </tr>\n",
       "    <tr>\n",
       "      <th>2019-04-26 08:10</th>\n",
       "      <td>1970-01-01 00:00:00.000001028</td>\n",
       "      <td>Widget C</td>\n",
       "      <td>2</td>\n",
       "      <td>40</td>\n",
       "      <td>80.0</td>\n",
       "      <td>2525 Elm St</td>\n",
       "      <td>City C</td>\n",
       "      <td>1</td>\n",
       "      <td>3200.0</td>\n",
       "      <td>City C</td>\n",
       "    </tr>\n",
       "    <tr>\n",
       "      <th>2019-04-27 13:50</th>\n",
       "      <td>1970-01-01 00:00:00.000001029</td>\n",
       "      <td>Widget D</td>\n",
       "      <td>1</td>\n",
       "      <td>100</td>\n",
       "      <td>100.0</td>\n",
       "      <td>2626 Pine Rd</td>\n",
       "      <td>City D</td>\n",
       "      <td>1</td>\n",
       "      <td>10000.0</td>\n",
       "      <td>City D</td>\n",
       "    </tr>\n",
       "    <tr>\n",
       "      <th>2019-04-28 14:30</th>\n",
       "      <td>1970-01-01 00:00:00.000001030</td>\n",
       "      <td>Widget B</td>\n",
       "      <td>7</td>\n",
       "      <td>15</td>\n",
       "      <td>105.0</td>\n",
       "      <td>2727 Cedar St</td>\n",
       "      <td>City B</td>\n",
       "      <td>1</td>\n",
       "      <td>1575.0</td>\n",
       "      <td>City B</td>\n",
       "    </tr>\n",
       "    <tr>\n",
       "      <th>2019-04-29 10:00</th>\n",
       "      <td>1970-01-01 00:00:00.000001031</td>\n",
       "      <td>Widget A</td>\n",
       "      <td>5</td>\n",
       "      <td>20</td>\n",
       "      <td>102.5</td>\n",
       "      <td>2828 Birch Ln</td>\n",
       "      <td>City A</td>\n",
       "      <td>1</td>\n",
       "      <td>2050.0</td>\n",
       "      <td>City A</td>\n",
       "    </tr>\n",
       "    <tr>\n",
       "      <th>2000-04-30 09:00</th>\n",
       "      <td>1970-01-01 00:00:00.000001032</td>\n",
       "      <td>Widget C</td>\n",
       "      <td>4</td>\n",
       "      <td>40</td>\n",
       "      <td>160.0</td>\n",
       "      <td>2929 Example St</td>\n",
       "      <td>City C</td>\n",
       "      <td>1</td>\n",
       "      <td>6400.0</td>\n",
       "      <td>City C</td>\n",
       "    </tr>\n",
       "  </tbody>\n",
       "</table>\n",
       "<p>64 rows × 10 columns</p>\n",
       "</div>"
      ],
      "text/plain": [
       "                                          Date  Order_ID  Product  Quantity  \\\n",
       "2019-04-01 10:00 1970-01-01 00:00:00.000001001  Widget A       10        20   \n",
       "2019-04-01 11:00 1970-01-01 00:00:00.000001002  Widget B        5        15   \n",
       "2019-04-02 09:30 1970-01-01 00:00:00.000001003  Widget C        2        40   \n",
       "2019-04-02 10:15 1970-01-01 00:00:00.000001004  Widget A        8        20   \n",
       "2019-04-03 14:00 1970-01-01 00:00:00.000001005  Widget D        1       100   \n",
       "...                                        ...       ...      ...       ...   \n",
       "2019-04-26 08:10 1970-01-01 00:00:00.000001028  Widget C        2        40   \n",
       "2019-04-27 13:50 1970-01-01 00:00:00.000001029  Widget D        1       100   \n",
       "2019-04-28 14:30 1970-01-01 00:00:00.000001030  Widget B        7        15   \n",
       "2019-04-29 10:00 1970-01-01 00:00:00.000001031  Widget A        5        20   \n",
       "2000-04-30 09:00 1970-01-01 00:00:00.000001032  Widget C        4        40   \n",
       "\n",
       "                  Unit_Price            Total  Adresse  Month  \\\n",
       "2019-04-01 10:00       205.0      123 Main St   City A      1   \n",
       "2019-04-01 11:00        75.0       456 Elm St   City B      1   \n",
       "2019-04-02 09:30        80.0    789 Maple Ave   City C      1   \n",
       "2019-04-02 10:15       164.0       101 Oak Dr   City A      1   \n",
       "2019-04-03 14:00       100.0      202 Pine Rd   City D      1   \n",
       "...                      ...              ...      ...    ...   \n",
       "2019-04-26 08:10        80.0      2525 Elm St   City C      1   \n",
       "2019-04-27 13:50       100.0     2626 Pine Rd   City D      1   \n",
       "2019-04-28 14:30       105.0    2727 Cedar St   City B      1   \n",
       "2019-04-29 10:00       102.5    2828 Birch Ln   City A      1   \n",
       "2000-04-30 09:00       160.0  2929 Example St   City C      1   \n",
       "\n",
       "                  Chiffre d'affaire     city  \n",
       "2019-04-01 10:00             4100.0   City A  \n",
       "2019-04-01 11:00             1125.0   City B  \n",
       "2019-04-02 09:30             3200.0   City C  \n",
       "2019-04-02 10:15             3280.0   City A  \n",
       "2019-04-03 14:00            10000.0   City D  \n",
       "...                             ...      ...  \n",
       "2019-04-26 08:10             3200.0   City C  \n",
       "2019-04-27 13:50            10000.0   City D  \n",
       "2019-04-28 14:30             1575.0   City B  \n",
       "2019-04-29 10:00             2050.0   City A  \n",
       "2000-04-30 09:00             6400.0   City C  \n",
       "\n",
       "[64 rows x 10 columns]"
      ]
     },
     "execution_count": 65,
     "metadata": {},
     "output_type": "execute_result"
    }
   ],
   "source": [
    "all_data['Adresse']\n",
    "'pays,city,cc'.split(',')[1]\n",
    "def city(x):\n",
    "    return x.split(',')[1]\n",
    "all_data['city'] = all_data['Adresse']\n",
    "all_data"
   ]
  },
  {
   "cell_type": "code",
   "execution_count": 66,
   "metadata": {},
   "outputs": [
    {
     "data": {
      "text/plain": [
       "city\n",
       "City A    18\n",
       "City B    16\n",
       "City C    16\n",
       "City D    14\n",
       "Name: city, dtype: int64"
      ]
     },
     "execution_count": 66,
     "metadata": {},
     "output_type": "execute_result"
    }
   ],
   "source": [
    "all_data.groupby('city')['city'].count()"
   ]
  },
  {
   "cell_type": "code",
   "execution_count": 67,
   "metadata": {},
   "outputs": [
    {
     "data": {
      "text/plain": [
       "Index([' City A', ' City B', ' City C', ' City D'], dtype='object', name='city')"
      ]
     },
     "execution_count": 67,
     "metadata": {},
     "output_type": "execute_result"
    }
   ],
   "source": [
    "all_data.groupby('city')['city'].count().index"
   ]
  },
  {
   "cell_type": "code",
   "execution_count": 68,
   "metadata": {},
   "outputs": [
    {
     "data": {
      "text/plain": [
       "array([18, 16, 16, 14])"
      ]
     },
     "execution_count": 68,
     "metadata": {},
     "output_type": "execute_result"
    }
   ],
   "source": [
    "all_data.groupby('city')['city'].count().values"
   ]
  },
  {
   "cell_type": "code",
   "execution_count": 69,
   "metadata": {},
   "outputs": [
    {
     "data": {
      "image/png": "[encoded data removed]",
      "text/plain": [
       "<Figure size 640x480 with 1 Axes>"
      ]
     },
     "metadata": {},
     "output_type": "display_data"
    }
   ],
   "source": [
    "#visualisation pour etre plus clair\n",
    "plt.bar(all_data.groupby('city')['city'].count().index, all_data.groupby('city')['city'].count().values)\n",
    "plt.xticks(rotation='vertical')\n",
    "plt.ylabel('Received orders')\n",
    "plt.xlabel('City name')\n",
    "plt.show()"
   ]
  },
  {
   "cell_type": "markdown",
   "metadata": {},
   "source": [
    "En quelle moment doit on faire une compagne publicitaire pour avoir plus de ventes?"
   ]
  },
  {
   "cell_type": "code",
   "execution_count": null,
   "metadata": {},
   "outputs": [
    {
     "data": {
      "text/html": [
       "<div>\n",
       "<style scoped>\n",
       "    .dataframe tbody tr th:only-of-type {\n",
       "        vertical-align: middle;\n",
       "    }\n",
       "\n",
       "    .dataframe tbody tr th {\n",
       "        vertical-align: top;\n",
       "    }\n",
       "\n",
       "    .dataframe thead th {\n",
       "        text-align: right;\n",
       "    }\n",
       "</style>\n",
       "<table border=\"1\" class=\"dataframe\">\n",
       "  <thead>\n",
       "    <tr style=\"text-align: right;\">\n",
       "      <th></th>\n",
       "      <th>Commande_ID</th>\n",
       "      <th>Date_Heure</th>\n",
       "      <th>Article</th>\n",
       "      <th>Quantite</th>\n",
       "      <th>Prix_Unitaire</th>\n",
       "      <th>Total</th>\n",
       "      <th>Paiement</th>\n",
       "      <th>Client_ID</th>\n",
       "      <th>Reduction</th>\n",
       "      <th>Hour</th>\n",
       "    </tr>\n",
       "  </thead>\n",
       "  <tbody>\n",
       "    <tr>\n",
       "      <th>0</th>\n",
       "      <td>101</td>\n",
       "      <td>2024-11-05 10:15:32</td>\n",
       "      <td>Lunettes de soleil</td>\n",
       "      <td>2</td>\n",
       "      <td>59.99</td>\n",
       "      <td>119.98</td>\n",
       "      <td>Carte de crédit</td>\n",
       "      <td>1</td>\n",
       "      <td>0</td>\n",
       "      <td>10</td>\n",
       "    </tr>\n",
       "    <tr>\n",
       "      <th>1</th>\n",
       "      <td>102</td>\n",
       "      <td>2024-11-05 11:45:10</td>\n",
       "      <td>Lentilles de contact</td>\n",
       "      <td>3</td>\n",
       "      <td>20.00</td>\n",
       "      <td>60.00</td>\n",
       "      <td>Chèque</td>\n",
       "      <td>2</td>\n",
       "      <td>5</td>\n",
       "      <td>11</td>\n",
       "    </tr>\n",
       "    <tr>\n",
       "      <th>2</th>\n",
       "      <td>103</td>\n",
       "      <td>2024-11-05 13:22:45</td>\n",
       "      <td>Nettoyant pour lunettes</td>\n",
       "      <td>1</td>\n",
       "      <td>12.50</td>\n",
       "      <td>12.50</td>\n",
       "      <td>Liquide</td>\n",
       "      <td>3</td>\n",
       "      <td>0</td>\n",
       "      <td>13</td>\n",
       "    </tr>\n",
       "    <tr>\n",
       "      <th>3</th>\n",
       "      <td>104</td>\n",
       "      <td>2024-11-06 09:08:12</td>\n",
       "      <td>Lunettes de vue</td>\n",
       "      <td>1</td>\n",
       "      <td>199.99</td>\n",
       "      <td>199.99</td>\n",
       "      <td>Carte de crédit</td>\n",
       "      <td>4</td>\n",
       "      <td>10</td>\n",
       "      <td>9</td>\n",
       "    </tr>\n",
       "    <tr>\n",
       "      <th>4</th>\n",
       "      <td>105</td>\n",
       "      <td>2024-11-06 14:18:27</td>\n",
       "      <td>Etui à lunettes</td>\n",
       "      <td>4</td>\n",
       "      <td>9.99</td>\n",
       "      <td>39.96</td>\n",
       "      <td>Liquide</td>\n",
       "      <td>5</td>\n",
       "      <td>0</td>\n",
       "      <td>14</td>\n",
       "    </tr>\n",
       "    <tr>\n",
       "      <th>5</th>\n",
       "      <td>106</td>\n",
       "      <td>2024-11-06 16:34:50</td>\n",
       "      <td>Lentilles de contact</td>\n",
       "      <td>2</td>\n",
       "      <td>20.00</td>\n",
       "      <td>40.00</td>\n",
       "      <td>Carte de crédit</td>\n",
       "      <td>6</td>\n",
       "      <td>0</td>\n",
       "      <td>16</td>\n",
       "    </tr>\n",
       "    <tr>\n",
       "      <th>6</th>\n",
       "      <td>107</td>\n",
       "      <td>2024-11-07 08:10:05</td>\n",
       "      <td>Produit d'entretien</td>\n",
       "      <td>5</td>\n",
       "      <td>5.00</td>\n",
       "      <td>25.00</td>\n",
       "      <td>Liquide</td>\n",
       "      <td>7</td>\n",
       "      <td>0</td>\n",
       "      <td>8</td>\n",
       "    </tr>\n",
       "    <tr>\n",
       "      <th>7</th>\n",
       "      <td>108</td>\n",
       "      <td>2024-11-07 15:45:33</td>\n",
       "      <td>Lunettes de soleil</td>\n",
       "      <td>1</td>\n",
       "      <td>59.99</td>\n",
       "      <td>59.99</td>\n",
       "      <td>Chèque</td>\n",
       "      <td>8</td>\n",
       "      <td>5</td>\n",
       "      <td>15</td>\n",
       "    </tr>\n",
       "    <tr>\n",
       "      <th>8</th>\n",
       "      <td>109</td>\n",
       "      <td>2024-11-08 12:12:12</td>\n",
       "      <td>Monture</td>\n",
       "      <td>2</td>\n",
       "      <td>150.00</td>\n",
       "      <td>300.00</td>\n",
       "      <td>Carte de crédit</td>\n",
       "      <td>9</td>\n",
       "      <td>15</td>\n",
       "      <td>12</td>\n",
       "    </tr>\n",
       "    <tr>\n",
       "      <th>9</th>\n",
       "      <td>110</td>\n",
       "      <td>2024-11-08 18:25:45</td>\n",
       "      <td>Lunettes de vue</td>\n",
       "      <td>1</td>\n",
       "      <td>199.99</td>\n",
       "      <td>199.99</td>\n",
       "      <td>Liquide</td>\n",
       "      <td>10</td>\n",
       "      <td>0</td>\n",
       "      <td>18</td>\n",
       "    </tr>\n",
       "    <tr>\n",
       "      <th>10</th>\n",
       "      <td>111</td>\n",
       "      <td>2024-11-09 09:30:00</td>\n",
       "      <td>Nettoyant pour lunettes</td>\n",
       "      <td>2</td>\n",
       "      <td>12.50</td>\n",
       "      <td>25.00</td>\n",
       "      <td>Chèque</td>\n",
       "      <td>11</td>\n",
       "      <td>0</td>\n",
       "      <td>9</td>\n",
       "    </tr>\n",
       "    <tr>\n",
       "      <th>11</th>\n",
       "      <td>112</td>\n",
       "      <td>2024-11-09 11:00:00</td>\n",
       "      <td>Lunettes de soleil</td>\n",
       "      <td>3</td>\n",
       "      <td>59.99</td>\n",
       "      <td>179.97</td>\n",
       "      <td>Carte de crédit</td>\n",
       "      <td>12</td>\n",
       "      <td>0</td>\n",
       "      <td>11</td>\n",
       "    </tr>\n",
       "    <tr>\n",
       "      <th>12</th>\n",
       "      <td>113</td>\n",
       "      <td>2024-11-09 15:05:15</td>\n",
       "      <td>Lentilles de contact</td>\n",
       "      <td>4</td>\n",
       "      <td>20.00</td>\n",
       "      <td>80.00</td>\n",
       "      <td>Liquide</td>\n",
       "      <td>13</td>\n",
       "      <td>0</td>\n",
       "      <td>15</td>\n",
       "    </tr>\n",
       "    <tr>\n",
       "      <th>13</th>\n",
       "      <td>114</td>\n",
       "      <td>2024-11-10 10:15:00</td>\n",
       "      <td>Monture</td>\n",
       "      <td>1</td>\n",
       "      <td>150.00</td>\n",
       "      <td>150.00</td>\n",
       "      <td>Carte de crédit</td>\n",
       "      <td>14</td>\n",
       "      <td>10</td>\n",
       "      <td>10</td>\n",
       "    </tr>\n",
       "    <tr>\n",
       "      <th>14</th>\n",
       "      <td>115</td>\n",
       "      <td>2024-11-10 13:45:45</td>\n",
       "      <td>Lunettes de vue</td>\n",
       "      <td>1</td>\n",
       "      <td>199.99</td>\n",
       "      <td>199.99</td>\n",
       "      <td>Chèque</td>\n",
       "      <td>15</td>\n",
       "      <td>0</td>\n",
       "      <td>13</td>\n",
       "    </tr>\n",
       "  </tbody>\n",
       "</table>\n",
       "</div>"
      ],
      "text/plain": [
       "    Commande_ID           Date_Heure                  Article  Quantite  \\\n",
       "0           101  2024-11-05 10:15:32       Lunettes de soleil         2   \n",
       "1           102  2024-11-05 11:45:10     Lentilles de contact         3   \n",
       "2           103  2024-11-05 13:22:45  Nettoyant pour lunettes         1   \n",
       "3           104  2024-11-06 09:08:12          Lunettes de vue         1   \n",
       "4           105  2024-11-06 14:18:27          Etui à lunettes         4   \n",
       "5           106  2024-11-06 16:34:50     Lentilles de contact         2   \n",
       "6           107  2024-11-07 08:10:05      Produit d'entretien         5   \n",
       "7           108  2024-11-07 15:45:33       Lunettes de soleil         1   \n",
       "8           109  2024-11-08 12:12:12                  Monture         2   \n",
       "9           110  2024-11-08 18:25:45          Lunettes de vue         1   \n",
       "10          111  2024-11-09 09:30:00  Nettoyant pour lunettes         2   \n",
       "11          112  2024-11-09 11:00:00       Lunettes de soleil         3   \n",
       "12          113  2024-11-09 15:05:15     Lentilles de contact         4   \n",
       "13          114  2024-11-10 10:15:00                  Monture         1   \n",
       "14          115  2024-11-10 13:45:45          Lunettes de vue         1   \n",
       "\n",
       "    Prix_Unitaire   Total         Paiement  Client_ID  Reduction  Hour  \n",
       "0           59.99  119.98  Carte de crédit          1          0    10  \n",
       "1           20.00   60.00           Chèque          2          5    11  \n",
       "2           12.50   12.50          Liquide          3          0    13  \n",
       "3          199.99  199.99  Carte de crédit          4         10     9  \n",
       "4            9.99   39.96          Liquide          5          0    14  \n",
       "5           20.00   40.00  Carte de crédit          6          0    16  \n",
       "6            5.00   25.00          Liquide          7          0     8  \n",
       "7           59.99   59.99           Chèque          8          5    15  \n",
       "8          150.00  300.00  Carte de crédit          9         15    12  \n",
       "9          199.99  199.99          Liquide         10          0    18  \n",
       "10          12.50   25.00           Chèque         11          0     9  \n",
       "11          59.99  179.97  Carte de crédit         12          0    11  \n",
       "12          20.00   80.00          Liquide         13          0    15  \n",
       "13         150.00  150.00  Carte de crédit         14         10    10  \n",
       "14         199.99  199.99           Chèque         15          0    13  "
      ]
     },
     "execution_count": 20,
     "metadata": {},
     "output_type": "execute_result"
    }
   ],
   "source": [
    "\n",
    "dataP3 = pd.read_csv(path + '/dataP3.csv')\n",
    "dataP3\n",
    "dataP3[\"Date_Heure\"]\n",
    "dataP3['Hour'] = pd.to_datetime(dataP3['Date_Heure']).dt.hour\n",
    "dataP3['Hour']\n",
    "dataP3"
   ]
  },
  {
   "cell_type": "code",
   "execution_count": null,
   "metadata": {},
   "outputs": [
    {
     "data": {
      "text/plain": [
       "([8, 9, 10, 11, 12, 13, 14, 15, 16, 18], [1, 2, 2, 2, 1, 2, 1, 2, 1, 1])"
      ]
     },
     "execution_count": 23,
     "metadata": {},
     "output_type": "execute_result"
    }
   ],
   "source": [
    "keys = []\n",
    "hours = []\n",
    "for key , hour in dataP3.groupby('Hour'):\n",
    "    keys.append(key) # le nombre de fois que cette boucle se repete\n",
    "    hours.append(len(hour))\n",
    "    \n",
    "keys \n",
    "hours\n",
    "    "
   ]
  },
  {
   "cell_type": "code",
   "execution_count": 25,
   "metadata": {},
   "outputs": [
    {
     "data": {
      "text/plain": [
       "Text(0, 0.5, 'Nombre de commandes')"
      ]
     },
     "execution_count": 25,
     "metadata": {},
     "output_type": "execute_result"
    },
    {
     "data": {
      "image/png": "[encoded data removed]",
      "text/plain": [
       "<Figure size 640x480 with 1 Axes>"
      ]
     },
     "metadata": {},
     "output_type": "display_data"
    }
   ],
   "source": [
    "plt.grid()\n",
    "plt.plot(keys, hours)\n",
    "plt.xlabel('Heure')\n",
    "plt.ylabel('Nombre de commandes')"
   ]
  },
  {
   "cell_type": "markdown",
   "metadata": {},
   "source": [
    "Quel produit se vend le plus?"
   ]
  },
  {
   "cell_type": "code",
   "execution_count": 28,
   "metadata": {},
   "outputs": [
    {
     "data": {
      "text/plain": [
       "<Axes: xlabel='Article'>"
      ]
     },
     "execution_count": 28,
     "metadata": {},
     "output_type": "execute_result"
    },
    {
     "data": {
      "image/png": "[encoded data removed]",
      "text/plain": [
       "<Figure size 640x480 with 1 Axes>"
      ]
     },
     "metadata": {},
     "output_type": "display_data"
    }
   ],
   "source": [
    "#video 5\n",
    "dataP3.groupby('Article')['Quantite'].sum().plot(kind='bar')"
   ]
  },
  {
   "cell_type": "code",
   "execution_count": 30,
   "metadata": {},
   "outputs": [
    {
     "data": {
      "text/plain": [
       "Article\n",
       "Etui à lunettes              9.99\n",
       "Lentilles de contact        20.00\n",
       "Lunettes de soleil          59.99\n",
       "Lunettes de vue            199.99\n",
       "Monture                    150.00\n",
       "Nettoyant pour lunettes     12.50\n",
       "Produit d'entretien          5.00\n",
       "Name: Prix_Unitaire, dtype: float64"
      ]
     },
     "execution_count": 30,
     "metadata": {},
     "output_type": "execute_result"
    }
   ],
   "source": [
    "dataP3.groupby('Article')['Prix_Unitaire'].mean()"
   ]
  },
  {
   "cell_type": "code",
   "execution_count": 31,
   "metadata": {},
   "outputs": [],
   "source": [
    "products = dataP3.groupby('Article')['Quantite'].sum().index\n",
    "quantity = dataP3.groupby('Article')['Quantite'].sum()\n",
    "prices = dataP3.groupby('Article')['Prix_Unitaire'].mean()\n"
   ]
  },
  {
   "cell_type": "code",
   "execution_count": 32,
   "metadata": {},
   "outputs": [
    {
     "name": "stderr",
     "output_type": "stream",
     "text": [
      "C:\\Users\\sella\\AppData\\Local\\Temp\\ipykernel_6808\\2979710049.py:6: UserWarning: set_ticklabels() should only be used with a fixed number of ticks, i.e. after set_ticks() or using a FixedLocator.\n",
      "  ax1.set_xticklabels(products, rotation='vertical', size=8)\n"
     ]
    },
    {
     "data": {
      "text/plain": [
       "[Text(0, 0, 'Etui à lunettes'),\n",
       " Text(1, 0, 'Lentilles de contact'),\n",
       " Text(2, 0, 'Lunettes de soleil'),\n",
       " Text(3, 0, 'Lunettes de vue'),\n",
       " Text(4, 0, 'Monture'),\n",
       " Text(5, 0, 'Nettoyant pour lunettes'),\n",
       " Text(6, 0, \"Produit d'entretien\")]"
      ]
     },
     "execution_count": 32,
     "metadata": {},
     "output_type": "execute_result"
    },
    {
     "data": {
      "text/plain": [
       "<Figure size 4000x2400 with 0 Axes>"
      ]
     },
     "metadata": {},
     "output_type": "display_data"
    },
    {
     "data": {
      "image/png": "[encoded data removed]",
      "text/plain": [
       "<Figure size 640x480 with 2 Axes>"
      ]
     },
     "metadata": {},
     "output_type": "display_data"
    }
   ],
   "source": [
    "plt.figure(figsize=(40,24))\n",
    "fig,ax1 = plt.subplots()\n",
    "ax2 = ax1.twinx()\n",
    "ax1.bar(products, quantity, color='g')\n",
    "ax2.plot(products, prices, 'b-')\n",
    "ax1.set_xticklabels(products, rotation='vertical', size=8)"
   ]
  },
  {
   "cell_type": "code",
   "execution_count": null,
   "metadata": {},
   "outputs": [],
   "source": [
    "\n",
    "df = dataP3[dataP3['Commande_ID'].duplicated(keep=False)]\n"
   ]
  },
  {
   "cell_type": "code",
   "execution_count": 38,
   "metadata": {},
   "outputs": [],
   "source": [
    "df2= df.drop_duplicates(subset=['Commande_ID'])\n",
    "df2['Grouped'] = df.groupby('Commande_ID')['Article'].transform(lambda x: ','.join(x))"
   ]
  }
 ],
 "metadata": {
  "kernelspec": {
   "display_name": "Python 3",
   "language": "python",
   "name": "python3"
  },
  "language_info": {
   "codemirror_mode": {
    "name": "ipython",
    "version": 3
   },
   "file_extension": ".py",
   "mimetype": "text/x-python",
   "name": "python",
   "nbconvert_exporter": "python",
   "pygments_lexer": "ipython3",
   "version": "3.12.0"
  }
 },
 "nbformat": 4,
 "nbformat_minor": 2
}
